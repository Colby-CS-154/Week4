{
 "cells": [
  {
   "cell_type": "markdown",
   "metadata": {},
   "source": [
    "## Review\n",
    "\n",
    "1. How to create a dictionary?\n",
    "2. How to write its type annotation?\n",
    "3. How to write the type annotation for a list of float?\n",
    "4. How to write the type annotation for a set of string?\n",
    "5. How to write the type annotation for a list of set of int?\n",
    "6. How to write the type annotation for a set of list of strings?"
   ]
  },
  {
   "cell_type": "code",
   "execution_count": null,
   "metadata": {},
   "outputs": [],
   "source": [
    "odd_or_not: dict[int, bool] = {\n",
    "    1: True, \n",
    "    2: False,\n",
    "    3: True,\n",
    "}\n",
    "\n",
    "list_of_int: list[int] = [1, 2, 3]\n",
    "list_of_sets_of_numbers: list[set[int]] = [{1, 3, 5, 7, 9}, {2, 4, 6, 8}]"
   ]
  },
  {
   "cell_type": "markdown",
   "metadata": {},
   "source": [
    "## Longer way of doing things"
   ]
  },
  {
   "cell_type": "code",
   "execution_count": 11,
   "metadata": {},
   "outputs": [
    {
     "name": "stdout",
     "output_type": "stream",
     "text": [
      "[1, 3, 5, 7, 9, 11, 13, 15, 17, 19, 21, 23, 25, 27, 29, 31, 33, 35, 37, 39, 41, 43, 45, 47, 49, 51, 53, 55, 57, 59, 61, 63, 65, 67, 69, 71, 73, 75, 77, 79, 81, 83, 85, 87, 89, 91, 93, 95, 97, 99]\n"
     ]
    }
   ],
   "source": [
    "# A list of numbers from 1 to 100\n",
    "list_of_numbers_upto_100: list[int] = []\n",
    "# A list of *odd* numbers from 1 to 100\n",
    "list_of_odd_numbers_upto_100:list[int] = []\n",
    "\n",
    "for i in range(1, 101):\n",
    "    if not (i % 2 == 0):                        # If the number is not even, \n",
    "        list_of_numbers_upto_100.append(i)      # then append it to the list\n",
    "\n",
    "print(list_of_numbers_upto_100)\n"
   ]
  },
  {
   "cell_type": "markdown",
   "metadata": {},
   "source": [
    "## A smarter way of doing things - comprehensions"
   ]
  },
  {
   "cell_type": "markdown",
   "metadata": {},
   "source": [
    "Following are the examples of `list`, `set`, and `dictionary` comprehensions that allow you to create objects in a single line. It is an advanced way of creating these data structures"
   ]
  },
  {
   "cell_type": "markdown",
   "metadata": {},
   "source": [
    "In the following code, we are saying that `list_of_number_upto_100` is a list. This is a list of `f`s that is between the range of 1 to 101\n",
    "\n",
    "Here is a further breakdown of the individual parts of the list comprehensions\n",
    "\n",
    "* `[]` - We are now very familiar with our lists\n",
    "*  `range(1, 101)` - gives us numbers from 1 - 101, where 101 is excluded\n",
    "* `for f in range(1, 101)` - allows us to iterate over the range of numbers\n",
    "* `f` - The first `f` between the square brackets denotes each item in the list."
   ]
  },
  {
   "cell_type": "code",
   "execution_count": 12,
   "metadata": {},
   "outputs": [
    {
     "name": "stdout",
     "output_type": "stream",
     "text": [
      "[1, 2, 3, 4, 5, 6, 7, 8, 9, 10, 11, 12, 13, 14, 15, 16, 17, 18, 19, 20, 21, 22, 23, 24, 25, 26, 27, 28, 29, 30, 31, 32, 33, 34, 35, 36, 37, 38, 39, 40, 41, 42, 43, 44, 45, 46, 47, 48, 49, 50, 51, 52, 53, 54, 55, 56, 57, 58, 59, 60, 61, 62, 63, 64, 65, 66, 67, 68, 69, 70, 71, 72, 73, 74, 75, 76, 77, 78, 79, 80, 81, 82, 83, 84, 85, 86, 87, 88, 89, 90, 91, 92, 93, 94, 95, 96, 97, 98, 99, 100]\n"
     ]
    }
   ],
   "source": [
    "list_of_numbers_upto_100:list [int] = [f for f in range(1, 101)]\n",
    "print(list_of_numbers_upto_100)"
   ]
  },
  {
   "cell_type": "markdown",
   "metadata": {},
   "source": [
    "We can also use conditionals to write even more complex lists. In the list below, `list_of_odd_numbers_upto_100` is a list of `f`s that is between the range of 1 and 100 only if `f` is not divisible by 2.\n",
    "\n",
    "Here is a breakdown of the individual parts of the list comprehensions\n",
    "\n",
    "* `[]` - The square brackets to indicate list\n",
    "* `range(1, 101)` - Gives us a range of numbers from 1 to 101 (excluding 101).\n",
    "* `for f in range(1, 101)` - Iterates over the range of the numbers from 1 to 101.\n",
    "* `if f % 2 != 0` - Conditional expression to check if `f` is odd or not.\n",
    "* `f` - The first `f` between the square brackets denotes each item in the list."
   ]
  },
  {
   "cell_type": "code",
   "execution_count": null,
   "metadata": {},
   "outputs": [],
   "source": [
    "list_of_odd_numbers_upto_100: list[int] = [f for f in range(1, 101) if f % 2 != 0]"
   ]
  },
  {
   "cell_type": "markdown",
   "metadata": {},
   "source": [
    "This style of Python is similar to the mathematical syntax for writing set notations:\n",
    "$$ A = \\{ x \\in Z | 1 <= x <= 100 \\text{ and } x \\text { is odd} \\} $$\n",
    "\n",
    "We read the above syntax as \"$A$ is a set of $x$ that belongs to the set of real numbers ($Z$), such that $x$ is between 1 and 100 and is odd.\""
   ]
  },
  {
   "cell_type": "markdown",
   "metadata": {},
   "source": [
    "We can also do comprehension for `sets`"
   ]
  },
  {
   "cell_type": "code",
   "execution_count": 13,
   "metadata": {},
   "outputs": [],
   "source": [
    "set_of_odd_numbers_upto_100: set[int] = {f for f in range(1, 101) if f % 2 != 0}"
   ]
  },
  {
   "cell_type": "markdown",
   "metadata": {},
   "source": [
    "We can also do it for dictionaries. Let's say we have a list of numbers from 1 to 100 called - `list_of_numbers_from_1_to_100` (I know, such an original variable name) and we have another list which specify if the numbers in that list are odd or not - `odd_or_not`.\n",
    "Now to check if something is odd or not, we will first have to get the index of the number from the first list and then use the index to get the value. A simple way might be to use dictionaries. So let's create a dictionary from these two lists"
   ]
  },
  {
   "cell_type": "code",
   "execution_count": 2,
   "metadata": {},
   "outputs": [],
   "source": [
    "list_of_numbers_from_1_to_100: list[int] = [f for f in range(1, 101)]\n",
    "odd_or_not: list[bool] = [(f % 2 != 0) for f in range(1, 101)] \n",
    "\n",
    "# Notice the difference between the two lists, the syntax is identical.\n",
    "# The primary difference between the two is that in the first list\n",
    "# I am using `f` to denote each item in the list. Whereas, in the second list\n",
    "# I am using a boolean expression to denote each item in the list. \n",
    "\n",
    "\n",
    "# Dictionary comprehension\n",
    "\n",
    "odd_or_not: dict[int, bool] = {k: v for k, v in zip(list_of_numbers_from_1_to_100, odd_or_not)}"
   ]
  },
  {
   "cell_type": "markdown",
   "metadata": {},
   "source": [
    "Let's break down the above syntax a little more:\n",
    "\n",
    "* `{}` - The curly braces indicate that this is a dictionary comprehension.\n",
    "* `zip(list_of_numbers_from_1_to_100, odd_or_not)` - Combines two lists, `list_of_numbers_from_1_to_100` and `odd_or_not`, into pairs of corresponding elements. See the example below to use zip to iterate over two lists simultaneously\n",
    "* `for k, v in zip(list_of_numbers_from_1_to_100, odd_or_not)` - Iterates over the pairs created by `zip`, where `k` represents the key (number) and `v` represents the value (whether the number is odd).\n",
    "* `k: v` - Creates a key-value pair in the dictionary with `k` as the key and `v` as the value."
   ]
  },
  {
   "cell_type": "code",
   "execution_count": 5,
   "metadata": {},
   "outputs": [
    {
     "name": "stdout",
     "output_type": "stream",
     "text": [
      "4, a\n",
      "5, b\n",
      "6, d\n",
      "1, e\n"
     ]
    }
   ],
   "source": [
    "some_list_of_numbers: list[int] = [4, 5, 6, 1]\n",
    "another_list_of_letters: list[str] = [\"a\", \"b\", \"d\", \"e\"]\n",
    "\n",
    "for each_num, each_char in zip(some_list_of_numbers, another_list_of_letters):\n",
    "    print(f\"{each_num}, {each_char}\")\n"
   ]
  },
  {
   "cell_type": "markdown",
   "metadata": {},
   "source": [
    "The following is directly creating our dictionary `odd_or_not` without using the two lists"
   ]
  },
  {
   "cell_type": "code",
   "execution_count": 6,
   "metadata": {},
   "outputs": [],
   "source": [
    "# A dictionary where each key is a number between 1 and 100 (inclusive) \n",
    "# and its value is boolean representing if it is odd or not\n",
    "odd_or_not: dict[int, bool] = {k: bool(k % 2) for k in range(1, 101)}"
   ]
  },
  {
   "cell_type": "code",
   "execution_count": 19,
   "metadata": {},
   "outputs": [
    {
     "data": {
      "text/plain": [
       "True"
      ]
     },
     "execution_count": 19,
     "metadata": {},
     "output_type": "execute_result"
    }
   ],
   "source": [
    "odd_or_not[51]"
   ]
  }
 ],
 "metadata": {
  "kernelspec": {
   "display_name": "colby",
   "language": "python",
   "name": "python3"
  },
  "language_info": {
   "codemirror_mode": {
    "name": "ipython",
    "version": 3
   },
   "file_extension": ".py",
   "mimetype": "text/x-python",
   "name": "python",
   "nbconvert_exporter": "python",
   "pygments_lexer": "ipython3",
   "version": "3.11.9"
  }
 },
 "nbformat": 4,
 "nbformat_minor": 2
}
