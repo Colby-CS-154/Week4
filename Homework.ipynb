{
 "cells": [
  {
   "cell_type": "markdown",
   "metadata": {},
   "source": [
    "## Homework\n",
    "\n",
    "Complete this notebook and the exercise prompts in the other lecture notebooks and submit them on GitHub"
   ]
  },
  {
   "cell_type": "markdown",
   "metadata": {},
   "source": [
    "Question 1: *Provide a definition of and example for each of these terms:*\n",
    "\n",
    "| Term | Example | Definition |\n",
    "| ----- | ------- | ---------- |\n",
    "| int  |            |     | \n",
    "| float |            |      | \n",
    "| string   |            |      | \n",
    "| boolean   |            |     | \n",
    "| list  |            |     | \n",
    "| set   |            |     | \n",
    "| dictionary |           |    |"
   ]
  },
  {
   "cell_type": "markdown",
   "metadata": {},
   "source": [
    "Question 2: *For each of these operators, for each of the python data types we know, can it take them as operands? (Assume both operands are the same type.)*\n",
    "\n",
    "| Operator | Int/Float | String | Boolean | List | Set | Dictionary |\n",
    "| -------  | --------- | ------ | ------- | ----- | --- | --------- |\n",
    "| +\t|         |       |           |   |     |     |\n",
    "| -\t|         |       |           |   |    |     |\n",
    "| *\t|         |       |           |   |    |     |\n",
    "| /\t|         |       |           |   |    |     |\n",
    "| **\t|         |       |           |   |    |     |\n",
    "| % |         |       |           |   |    |     |\n",
    "| == |         |       |           |   |    |     |\n",
    "| != |         |       |           |   |    |     |\n",
    "| > |         |       |           |   |    |     |\n",
    "| < |         |       |           |   |    |     |\n",
    "| >= |         |       |           |   |    |     |\n",
    "| <= |         |       |           |   |    |     |\n",
    "| and |         |       |           |   |    |     |\n",
    "| or |         |       |           |   |    |     |\n",
    "| not |         |       |           |   |    |     |\n",
    "| in |         |       |           |   |    |     |\n",
    "| not in |         |       |           |   |    |     |"
   ]
  },
  {
   "cell_type": "markdown",
   "metadata": {},
   "source": [
    "Question 3: *List some common dictionary methods.*\n",
    "\n",
    "* first one\n",
    "* second one\n",
    "* third one\n",
    "* fourth one\n",
    "* fifth one"
   ]
  },
  {
   "cell_type": "markdown",
   "metadata": {
    "vscode": {
     "languageId": "plaintext"
    }
   },
   "source": [
    "# Coding Exercise: \n",
    "\n",
    "Use your knowledge of lists, sets, and dictionaries to create a helpful contacts list"
   ]
  },
  {
   "cell_type": "code",
   "execution_count": null,
   "metadata": {},
   "outputs": [],
   "source": [
    "# Question 4\n",
    "\n",
    "\n",
    "# Make a list of resources as in the role of the people you can have this semester to rely on support. \n",
    "# For example - `professor`, `TA`, `Dean` etc. \n",
    "\n",
    "contacts ={\n",
    " 'VJ': 'vjain@colby.edu'\n",
    "}\n",
    "\n"
   ]
  },
  {
   "cell_type": "code",
   "execution_count": null,
   "metadata": {},
   "outputs": [],
   "source": [
    "# Question 5\n",
    "\n",
    "# Write python code to print out the names of all professors in your contacts dictionary"
   ]
  },
  {
   "cell_type": "code",
   "execution_count": null,
   "metadata": {},
   "outputs": [],
   "source": [
    "# Question 6\n",
    "\n",
    "# Write python code to create a list of the *names* of all professors, TAs, \n",
    "# coaches and class deans from your contacts dictionary"
   ]
  },
  {
   "cell_type": "code",
   "execution_count": null,
   "metadata": {},
   "outputs": [],
   "source": [
    "# Question 7\n",
    "\n",
    "# Write python code to create a list of the *contacts* of all professors, TAs, \n",
    "# coaches and class deans from your contacts dictionary"
   ]
  },
  {
   "cell_type": "code",
   "execution_count": null,
   "metadata": {},
   "outputs": [],
   "source": [
    "# Question 8\n",
    "\n",
    "# Write python code to create a list of only the username of each person. For example, if the email is\n",
    "# username@colby.edu, print only username."
   ]
  },
  {
   "cell_type": "code",
   "execution_count": null,
   "metadata": {},
   "outputs": [],
   "source": [
    "# Question 9\n",
    "\n",
    "# Write python code to convert the `contacts` dictionary into a list of tuple. In this tuple, \n",
    "# the first item is the name, and the second item is their contact\n",
    "\n"
   ]
  },
  {
   "cell_type": "code",
   "execution_count": null,
   "metadata": {},
   "outputs": [],
   "source": [
    "# Question 10\n",
    "\n",
    "# For each object from Q5 - Q9, write their variable name and their type annotation in comments below\n",
    "\n",
    "# For example \n",
    "# contacts: dict[str, str]"
   ]
  }
 ],
 "metadata": {
  "language_info": {
   "name": "python"
  }
 },
 "nbformat": 4,
 "nbformat_minor": 2
}
