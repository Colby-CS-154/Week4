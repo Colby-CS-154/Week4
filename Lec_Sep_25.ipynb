{
 "cells": [
  {
   "cell_type": "markdown",
   "metadata": {},
   "source": [
    "## REVIEW\n",
    "\n",
    "* How many times does code snippet #1 run?\n",
    "\n",
    "```python\n",
    "# code snippet #1\n",
    "counter: int = 0\n",
    "while (counter < 2):\n",
    "    print(\"hello world\")\n",
    "    counter += 1\n",
    "```"
   ]
  },
  {
   "cell_type": "markdown",
   "metadata": {
    "vscode": {
     "languageId": "plaintext"
    }
   },
   "source": [
    "* How many times does code snippet #2 run?\n",
    "\n",
    "```python\n",
    "# code snippet #2\n",
    "counter: int = 0\n",
    "while (counter <= 2):\n",
    "    print(\"hello world\")\n",
    "    counter += 1\n",
    "```"
   ]
  },
  {
   "cell_type": "markdown",
   "metadata": {},
   "source": [
    "* How many times will code snippet #3 run?\n",
    "\n",
    "```python\n",
    "# code snippet #3\n",
    "user_input: str = \"\"\n",
    "\n",
    "while (user_input != \"STOP\"):\n",
    "    user_input: str = input(\"What do you want to do?\")\n",
    "```"
   ]
  },
  {
   "cell_type": "markdown",
   "metadata": {},
   "source": [
    "* What is the difference between a `for` loop and a `while` loop?"
   ]
  },
  {
   "cell_type": "markdown",
   "metadata": {},
   "source": [
    "* What are the types of sequences we have seen so far now?"
   ]
  },
  {
   "cell_type": "markdown",
   "metadata": {},
   "source": [
    "* Is there something wrong with the following code?\n",
    "\n",
    "```python\n",
    "my_tuple: tuple[int] = (1, 2, 5)\n",
    "# Replace the number 5 with 3\n",
    "my_tuple[2] = 3\n",
    "```\n"
   ]
  },
  {
   "cell_type": "markdown",
   "metadata": {},
   "source": [
    "* How many values are in the following variables?\n",
    "\n",
    "\n",
    "```python\n",
    "list_of_states: list[str] = [\"Maine\", \"Texas\", \"Nevada\", \"New York\", \"Utah\", \"Texas\", \"Maine\"]\n",
    "tuple_of_states: tuple[str] = (\"Maine\", \"Texas\", \"Nevada\", \"New York\", \"Utah\", \"Texas\", \"New York\")\n",
    "set_of_states: set[str] = {\"Maine\", \"Texas\", \"Nevada\", \"New York\", \"Utah\", \"New York\", \"Maine\"}\n",
    "```"
   ]
  },
  {
   "cell_type": "markdown",
   "metadata": {},
   "source": [
    "* How to find the length of any sequence?\n",
    "* List and describe some methods of a string\n",
    "* List and describe some methods of a list\n",
    "* List and describe some methods of a tuple\n",
    "* List and describe some methods of a set"
   ]
  },
  {
   "cell_type": "code",
   "execution_count": 2,
   "metadata": {},
   "outputs": [
    {
     "data": {
      "text/plain": [
       "4"
      ]
     },
     "execution_count": 2,
     "metadata": {},
     "output_type": "execute_result"
    }
   ],
   "source": [
    "some_set: tuple[int] = (1, 2, 3, 4, 5, 3, 4, 5)\n",
    "some_set.index(5)"
   ]
  },
  {
   "cell_type": "code",
   "execution_count": 3,
   "metadata": {},
   "outputs": [
    {
     "ename": "TypeError",
     "evalue": "'str' object does not support item assignment",
     "output_type": "error",
     "traceback": [
      "\u001b[0;31m---------------------------------------------------------------------------\u001b[0m",
      "\u001b[0;31mTypeError\u001b[0m                                 Traceback (most recent call last)",
      "Cell \u001b[0;32mIn[3], line 2\u001b[0m\n\u001b[1;32m      1\u001b[0m some_data: \u001b[38;5;28mstr\u001b[39m  \u001b[38;5;241m=\u001b[39m \u001b[38;5;124m\"\u001b[39m\u001b[38;5;124mhello\u001b[39m\u001b[38;5;124m\"\u001b[39m\n\u001b[0;32m----> 2\u001b[0m \u001b[43msome_data\u001b[49m\u001b[43m[\u001b[49m\u001b[38;5;241;43m-\u001b[39;49m\u001b[38;5;241;43m1\u001b[39;49m\u001b[43m]\u001b[49m \u001b[38;5;241m=\u001b[39m \u001b[38;5;124m\"\u001b[39m\u001b[38;5;124m0\u001b[39m\u001b[38;5;124m\"\u001b[39m\n",
      "\u001b[0;31mTypeError\u001b[0m: 'str' object does not support item assignment"
     ]
    }
   ],
   "source": [
    "some_data: str  = \"hello\"\n",
    "some_data[-1] = \"0\""
   ]
  },
  {
   "cell_type": "code",
   "execution_count": 4,
   "metadata": {},
   "outputs": [
    {
     "data": {
      "text/plain": [
       "'hello world'"
      ]
     },
     "execution_count": 4,
     "metadata": {},
     "output_type": "execute_result"
    }
   ],
   "source": [
    "one_string: str = \"hello\"\n",
    "another_string: str = \" \"\n",
    "third_string: str = \"world\"\n",
    "\n",
    "one_string + another_string + third_string"
   ]
  },
  {
   "cell_type": "code",
   "execution_count": 5,
   "metadata": {},
   "outputs": [
    {
     "name": "stdout",
     "output_type": "stream",
     "text": [
      "one_string\n"
     ]
    }
   ],
   "source": [
    "some_str: str = \"one_string\"\n",
    "some_str = some_str.replace(\"_\", \" \")\n",
    "print(some_str)"
   ]
  },
  {
   "cell_type": "markdown",
   "metadata": {},
   "source": [
    "### Methods of `set`"
   ]
  },
  {
   "cell_type": "code",
   "execution_count": 10,
   "metadata": {},
   "outputs": [
    {
     "name": "stdout",
     "output_type": "stream",
     "text": [
      "{1, 2, 3, 4, 5, 10}\n",
      "{10, 1, 2, 3}\n",
      "{6}\n",
      "{4, 5}\n"
     ]
    }
   ],
   "source": [
    "set_1: set[int] = {1, 2, 3, 4, 5}\n",
    "set_2: set[int] = {4, 5, 6}\n",
    "\n",
    "set_1.add(10)\n",
    "print(set_1)\n",
    "\n",
    "# set_1.clear()\n",
    "print(set_1.difference(set_2))\n",
    "print(set_2.difference(set_1))\n",
    "print(set_1.intersection(set_2))"
   ]
  },
  {
   "cell_type": "code",
   "execution_count": 13,
   "metadata": {},
   "outputs": [
    {
     "data": {
      "text/plain": [
       "True"
      ]
     },
     "execution_count": 13,
     "metadata": {},
     "output_type": "execute_result"
    }
   ],
   "source": [
    "some_set: set[int] = {2, 3, 4}\n",
    "another_set: set [int] = {4, 3, 2}\n",
    "\n",
    "some_set == another_set"
   ]
  },
  {
   "cell_type": "code",
   "execution_count": 14,
   "metadata": {},
   "outputs": [
    {
     "data": {
      "text/plain": [
       "False"
      ]
     },
     "execution_count": 14,
     "metadata": {},
     "output_type": "execute_result"
    }
   ],
   "source": [
    "some_list: list[int] = [2, 3, 4]\n",
    "another_list: list[int] = [4, 3, 2]\n",
    "\n",
    "some_list == another_list"
   ]
  },
  {
   "cell_type": "markdown",
   "metadata": {},
   "source": [
    "## Another type of built-in data-structure"
   ]
  },
  {
   "cell_type": "code",
   "execution_count": 17,
   "metadata": {},
   "outputs": [
    {
     "name": "stdout",
     "output_type": "stream",
     "text": [
      "{('h', 2), ('o', 4), ('u', 1), ('d', 1), ('l', 3), (' ', 4), ('a', 1), ('r', 2), ('y', 1), ('w', 2), ('e', 2)}\n"
     ]
    }
   ],
   "source": [
    "some_str: str = \"hello world how are you\"\n",
    "\n",
    "set_of_char: set[str] = {}\n",
    "count_of_chars: list[tuple[str, int]] = []\n",
    "for each_char in some_str:\n",
    "    count = 0\n",
    "\n",
    "    for each_occurrence in some_str:\n",
    "        if each_occurrence == each_char:\n",
    "            count += 1\n",
    "    \n",
    "    count_of_chars.append((each_char, count))\n",
    "\n",
    "print(set(count_of_chars))\n"
   ]
  },
  {
   "cell_type": "code",
   "execution_count": null,
   "metadata": {},
   "outputs": [],
   "source": [
    "list_of_str: list[str] = [\"hello how are you\", \"I am doing good\", \"That is good to hear\"]"
   ]
  },
  {
   "cell_type": "code",
   "execution_count": 18,
   "metadata": {},
   "outputs": [
    {
     "name": "stdout",
     "output_type": "stream",
     "text": [
      "{'h': 2, 'o': 4, 'u': 1}\n"
     ]
    }
   ],
   "source": [
    "count_of_chars: dict[str, int] = {\n",
    "    \"h\": 2,\n",
    "    \"o\": 4,\n",
    "    \"u\": 1\n",
    "}\n",
    "\n",
    "print(count_of_chars)\n"
   ]
  },
  {
   "cell_type": "code",
   "execution_count": null,
   "metadata": {},
   "outputs": [],
   "source": [
    "value: int = 3\n",
    "some_dict: dict[int, int] = {\n",
    "    3: 5,\n",
    "}\n",
    "\n"
   ]
  },
  {
   "cell_type": "code",
   "execution_count": 20,
   "metadata": {},
   "outputs": [
    {
     "data": {
      "text/plain": [
       "{'h': 12, 'o': 5, 'u': 1}"
      ]
     },
     "execution_count": 20,
     "metadata": {},
     "output_type": "execute_result"
    }
   ],
   "source": [
    "count_of_chars['h'] = 12\n",
    "\n",
    "count_of_chars['o'] += 1\n",
    "count_of_chars"
   ]
  },
  {
   "cell_type": "code",
   "execution_count": 21,
   "metadata": {},
   "outputs": [
    {
     "name": "stdout",
     "output_type": "stream",
     "text": [
      "h\n",
      "o\n",
      "u\n"
     ]
    }
   ],
   "source": [
    "for each_key in count_of_chars.keys():\n",
    "    print(each_key)"
   ]
  },
  {
   "cell_type": "code",
   "execution_count": 22,
   "metadata": {},
   "outputs": [
    {
     "name": "stdout",
     "output_type": "stream",
     "text": [
      "12\n",
      "5\n",
      "1\n"
     ]
    }
   ],
   "source": [
    "for each_value in count_of_chars.values():\n",
    "    print(each_value)"
   ]
  },
  {
   "cell_type": "code",
   "execution_count": 23,
   "metadata": {},
   "outputs": [
    {
     "name": "stdout",
     "output_type": "stream",
     "text": [
      "h: 12\n",
      "o: 5\n",
      "u: 1\n"
     ]
    }
   ],
   "source": [
    "for each_key, each_value in count_of_chars.items():\n",
    "    print(f\"{each_key}: {each_value}\")"
   ]
  },
  {
   "cell_type": "code",
   "execution_count": 24,
   "metadata": {},
   "outputs": [
    {
     "name": "stdout",
     "output_type": "stream",
     "text": [
      "h\n",
      "o\n",
      "u\n"
     ]
    }
   ],
   "source": [
    "for each_thing in count_of_chars:\n",
    "    print(each_thing)"
   ]
  },
  {
   "cell_type": "code",
   "execution_count": 26,
   "metadata": {},
   "outputs": [
    {
     "name": "stdout",
     "output_type": "stream",
     "text": [
      "True\n",
      "False\n"
     ]
    }
   ],
   "source": [
    "print('h' in count_of_chars)\n",
    "print('f' in count_of_chars)"
   ]
  },
  {
   "cell_type": "code",
   "execution_count": 29,
   "metadata": {},
   "outputs": [
    {
     "name": "stdout",
     "output_type": "stream",
     "text": [
      "{'a': 10, 'b': 10, 'd': 13, 'c': 14, 'e': 10}\n"
     ]
    }
   ],
   "source": [
    "list_of_str: list[str] = [\"hello how are you\", \"I am doing good\", \"That is good to hear\"]\n",
    "second_list_of_str: list[str] = [...]\n",
    "\n",
    "first_count_of_chars.update(second_count_of_chars)\n",
    "print(first_count_of_chars)"
   ]
  },
  {
   "cell_type": "code",
   "execution_count": 31,
   "metadata": {},
   "outputs": [
    {
     "name": "stdout",
     "output_type": "stream",
     "text": [
      "{'d': 13, 'c': 14, 'e': 10, 'b': 22, 'a': 10}\n"
     ]
    }
   ],
   "source": [
    "first_count_of_chars: dict[str, int] = {\"a\": 10, \"b\": 12}\n",
    "\n",
    "second_count_of_chars: dict[str, int] = {\"d\": 13, \"c\": 14, \"e\": 10, \"b\": 10}\n",
    "\n",
    "for each_char, count in first_count_of_chars.items():\n",
    "    if each_char in second_count_of_chars:\n",
    "        second_count_of_chars[each_char] += count\n",
    "    else:\n",
    "        second_count_of_chars[each_char] = count\n",
    "\n",
    "print(second_count_of_chars)"
   ]
  }
 ],
 "metadata": {
  "kernelspec": {
   "display_name": "colby",
   "language": "python",
   "name": "python3"
  },
  "language_info": {
   "codemirror_mode": {
    "name": "ipython",
    "version": 3
   },
   "file_extension": ".py",
   "mimetype": "text/x-python",
   "name": "python",
   "nbconvert_exporter": "python",
   "pygments_lexer": "ipython3",
   "version": "3.11.9"
  }
 },
 "nbformat": 4,
 "nbformat_minor": 2
}
